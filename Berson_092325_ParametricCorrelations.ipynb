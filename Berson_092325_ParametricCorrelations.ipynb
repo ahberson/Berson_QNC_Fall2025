{
  "nbformat": 4,
  "nbformat_minor": 0,
  "metadata": {
    "colab": {
      "provenance": [],
      "authorship_tag": "ABX9TyOL3ToZzYwbn3pVS/oTXtqo",
      "include_colab_link": true
    },
    "kernelspec": {
      "name": "python3",
      "display_name": "Python 3"
    },
    "language_info": {
      "name": "python"
    }
  },
  "cells": [
    {
      "cell_type": "markdown",
      "metadata": {
        "id": "view-in-github",
        "colab_type": "text"
      },
      "source": [
        "<a href=\"https://colab.research.google.com/github/ahberson/Berson_QNC_Fall2025/blob/main/Berson_092325_ParametricCorrelations.ipynb\" target=\"_parent\"><img src=\"https://colab.research.google.com/assets/colab-badge.svg\" alt=\"Open In Colab\"/></a>"
      ]
    },
    {
      "cell_type": "markdown",
      "source": [
        "These are the questions from Parametric Correlation Coefficient.ipynb but some of the syntax didn't copy. I still referred to the original GitHub notebook for the exact questions:\n",
        "\n",
        "\n",
        "\n",
        "Assume Wing length is the\n",
        " variable and Tail Length is the\n",
        " variable, both measured in cm.\n",
        "\n",
        "Answers to the questions below will be found here after the due date.\n",
        "\n",
        "1. Plot X vs Y. Do they look related?\n",
        "2. Calculate\n",
        " and\n",
        ", first using the equations above and then using either the Python numpy funciton corrcoef or Matlab's built-in corrcoef. Did you get the same answers?\n",
        "3. What is the standard error of\n",
        "? The 95% confidence intervals computed from the standard error?\n",
        "4. Should the value of\n",
        " be considered significant at the p<0.05 level, given a two-tailed test (i.e., we reject if the test statistic is too large on either tail of the null distribution) for\n",
        "?\n",
        "5. Yale does the exact same study and finds that his correlation value is 0.75. Is this the same as yours? That is, evaluate\n",
        ".\n",
        "6. Finally, calculate the statistical power and sample size needed to reject\n",
        "."
      ],
      "metadata": {
        "id": "s8Mc-NTalrSq"
      }
    },
    {
      "cell_type": "code",
      "source": [
        "import matplotlib.pyplot as plt\n",
        "import numpy as np\n",
        "from scipy import stats\n"
      ],
      "metadata": {
        "id": "UP8xF7ymmXXs"
      },
      "execution_count": 7,
      "outputs": []
    },
    {
      "cell_type": "markdown",
      "source": [
        "**Question 1**"
      ],
      "metadata": {
        "id": "Xx5i4p1ZmkXJ"
      }
    },
    {
      "cell_type": "code",
      "execution_count": 3,
      "metadata": {
        "colab": {
          "base_uri": "https://localhost:8080/",
          "height": 472
        },
        "id": "oIbHYGYrlnYy",
        "outputId": "f583ab6c-9034-4f9b-ca13-8756369b225e"
      },
      "outputs": [
        {
          "output_type": "display_data",
          "data": {
            "text/plain": [
              "<Figure size 640x480 with 1 Axes>"
            ],
            "image/png": "[encoded data removed]"
          },
          "metadata": {}
        }
      ],
      "source": [
        "\n",
        "wing_length = [10.4, 10.8, 11.1, 10.2, 10.3, 10.2, 10.7, 10.5, 10.8, 11.2, 10.6, 11.4]\n",
        "tail_length = [7.4, 7.6, 7.9, 7.2, 7.4, 7.1, 7.4, 7.2, 7.8, 7.7, 7.8, 8.3]\n",
        "\n",
        "plt.figure()\n",
        "plt.plot(wing_length, tail_length, 'o')\n",
        "plt.xlabel('Wing Length (cm)')\n",
        "plt.ylabel('Tail Length (cm)')\n",
        "plt.title('Wing Length vs Tail Length')\n",
        "plt.show()\n"
      ]
    },
    {
      "cell_type": "markdown",
      "source": [
        "There looks to be a positive correlation, but the variance is large."
      ],
      "metadata": {
        "id": "LLPd-d4rmmJA"
      }
    },
    {
      "cell_type": "markdown",
      "source": [
        "**Question 2**"
      ],
      "metadata": {
        "id": "gy1XOTLamwhQ"
      }
    },
    {
      "cell_type": "code",
      "source": [
        "r_manual = np.sum((wing_length - np.mean(wing_length)) * (tail_length - np.mean(tail_length))) / np.sqrt(np.sum((wing_length - np.mean(wing_length))**2) * np.sum((tail_length - np.mean(tail_length))**2))\n",
        "r_numpy = np.corrcoef(wing_length, tail_length)[0, 1]\n",
        "print(r_manual)\n",
        "print(r_numpy)"
      ],
      "metadata": {
        "colab": {
          "base_uri": "https://localhost:8080/"
        },
        "id": "eS0yqpgcmPN4",
        "outputId": "639e9ac0-a948-43bf-8b27-f004e670b46a"
      },
      "execution_count": 4,
      "outputs": [
        {
          "output_type": "stream",
          "name": "stdout",
          "text": [
            "0.8703545613058226\n",
            "0.8703545613058227\n"
          ]
        }
      ]
    },
    {
      "cell_type": "markdown",
      "source": [
        "Yes, I got (nearly) the same answers, just varying in past the 10th decimal point."
      ],
      "metadata": {
        "id": "l5D77YSFoIk0"
      }
    },
    {
      "cell_type": "markdown",
      "source": [
        "**Question 3**"
      ],
      "metadata": {
        "id": "uoeM1rjkoU09"
      }
    },
    {
      "cell_type": "code",
      "source": [
        "se_r = np.sqrt((1 - r_manual**2) / (len(wing_length) - 2))\n",
        "print(\"The standard error of r is\", se_r)\n",
        "\n",
        "z = 0.5 * np.log((1 + r_manual) / (1 - r_manual))\n",
        "se_z = 1 / np.sqrt(len(wing_length) - 3)\n",
        "alpha = 0.05\n",
        "z_crit = stats.norm.ppf(1-alpha/2)  # 95% CI\n",
        "\n",
        "z_CI = [z - z_crit * se_z, z + z_crit * se_z]\n",
        "r_CI = [(np.exp(2*zv) - 1) / (np.exp(2*zv) + 1) for zv in z_CI]\n",
        "\n",
        "print(\"The 95% confidence interval for r is\", float(r_CI[0]), \"to\", float(r_CI[1]))"
      ],
      "metadata": {
        "colab": {
          "base_uri": "https://localhost:8080/"
        },
        "id": "yr9919qhoF-U",
        "outputId": "77c76dc5-4be3-444d-c3dc-7d0131a7e55a"
      },
      "execution_count": 9,
      "outputs": [
        {
          "output_type": "stream",
          "name": "stdout",
          "text": [
            "The standard error of r is 0.15571863652567383\n",
            "The 95% confidence interval for r is 0.5923110780844785 to 0.9631598602746105\n"
          ]
        }
      ]
    },
    {
      "cell_type": "markdown",
      "source": [
        "**Question 4**"
      ],
      "metadata": {
        "id": "4Eq3l6Zjo-C3"
      }
    },
    {
      "cell_type": "code",
      "source": [
        "t_stat = r_manual / se_r\n",
        "p_value = 2 * (1 - stats.t.cdf(abs(t_stat), df=len(wing_length)-2))\n",
        "print(\"The p-value is\", p_value)"
      ],
      "metadata": {
        "colab": {
          "base_uri": "https://localhost:8080/"
        },
        "id": "6Q6Gzj0Voa1A",
        "outputId": "5464aed0-5d79-4e05-a771-7a2c07dab0eb"
      },
      "execution_count": 10,
      "outputs": [
        {
          "output_type": "stream",
          "name": "stdout",
          "text": [
            "The p-value is 0.00023110594312059085\n"
          ]
        }
      ]
    },
    {
      "cell_type": "markdown",
      "source": [
        "Since our p-value is below 0.05, we can reject our null hypothesis and consider our r(x,y) to be significant."
      ],
      "metadata": {
        "id": "SuxcHNYVpSQG"
      }
    },
    {
      "cell_type": "markdown",
      "source": [
        "**Question 5**"
      ],
      "metadata": {
        "id": "7CdqYVpopdT7"
      }
    },
    {
      "cell_type": "code",
      "source": [
        "r0 = 0.75\n",
        "z0 = 0.5 * np.log((1 + r0) / (1 - r0))\n",
        "lambaz = (z-z0) / se_z\n",
        "p_value0 = 2 * (1 - stats.norm.cdf(abs(lambaz)))\n",
        "print(\"The p-value for the null hypothesis is\", p_value0)"
      ],
      "metadata": {
        "colab": {
          "base_uri": "https://localhost:8080/"
        },
        "id": "FPXxa3pzpRUC",
        "outputId": "bf3ead90-dd6e-4bc9-f430-5cdaacc1a519"
      },
      "execution_count": 12,
      "outputs": [
        {
          "output_type": "stream",
          "name": "stdout",
          "text": [
            "The p-value for the null hypothesis is 0.2780303018608836\n"
          ]
        }
      ]
    },
    {
      "cell_type": "markdown",
      "source": [
        "Our p-value is now above 0.05 so we accept the null hypothesis. We cannot say that our results are significant."
      ],
      "metadata": {
        "id": "xxiT5VGdqdKV"
      }
    },
    {
      "cell_type": "markdown",
      "source": [
        "**Question 6**"
      ],
      "metadata": {
        "id": "KkUyHBVDqjwj"
      }
    },
    {
      "cell_type": "code",
      "source": [
        "r_rej = 0.5\n",
        "z_rej = 0.5 * np.log((1 + r_rej) / (1 - r_rej))\n",
        "lambdaz_rej = (z-z_rej) / np.sqrt(1/(len(wing_length)-3))\n",
        "#use z_crit from above for alpha 0.05\n",
        "pow = 1 - stats.norm.cdf(z_crit - lambdaz_rej) #proportion of distribution right of lambda\n",
        "print(\"Required power with current n is \",pow) #this tells us the power (prob of rejecting null) with our current n\n",
        "\n",
        "# I was confused by how to find n since you need n to find power and visa versa\n",
        "# I'm assuming the question meant what is the n needed for a high power value, but this is just a guess\n",
        "# so, we have to decide on a desired_power to find a required n, which I'm saying is 0.95\n",
        "# Would be interested in hearing if there's another method which doesn't require us to set a power value\n",
        "desired_power = 0.95\n",
        "\n",
        "# we can use the power formula from before and rearrange some things\n",
        "# power = 1 - stats.norm.cdf(z_crit - lambda)\n",
        "# our n will come from lambda but this requires us to take the inverse function of stats.norm.cdf\n",
        "# upon looking this up, it seems that stats.norm.ppf does this but not sure as to why - maybe discuss in class?\n",
        "# lambda = z_crit - stats.norm.ppf(1-power)\n",
        "# (z-z_rej)/np.sqrt(1/(n-3)) = z_crit - stats.norm.ppf(1-power)\n",
        "# n = 1/( (z-z_rej)/(z_crit - stats.norm.ppf(1-power)) )^2  +  3\n",
        "n = 1/((z-z_rej)/(z_crit - stats.norm.ppf(1-desired_power)))**2 + 3\n",
        "print(\"Required n for 0.95 power is\", n)"
      ],
      "metadata": {
        "colab": {
          "base_uri": "https://localhost:8080/"
        },
        "id": "KxnV9MMoqYN-",
        "outputId": "e42a0593-1a9d-45db-fa80-6096fef299c8"
      },
      "execution_count": 17,
      "outputs": [
        {
          "output_type": "stream",
          "name": "stdout",
          "text": [
            "Required power with current n is  0.653850668177187\n",
            "Required n for 0.95 power is 24.075048281467865\n"
          ]
        }
      ]
    },
    {
      "cell_type": "code",
      "source": [],
      "metadata": {
        "id": "tLTTTCgytUCW"
      },
      "execution_count": null,
      "outputs": []
    }
  ]
}