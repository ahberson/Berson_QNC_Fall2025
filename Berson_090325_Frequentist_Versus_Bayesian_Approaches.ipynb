{
  "cells": [
    {
      "cell_type": "markdown",
      "metadata": {
        "id": "-Eh2Pu8glb6C"
      },
      "source": [
        "To use this tutorial, read the text and then try to generate code to solve the exercises. Answers will be posted to GitHub after the class they are due.\n",
        "\n",
        "The learning objective is to gain insights into thinking about inference from a \"Frequentist\" versus a \"Bayesian\" perspective. In brief, because a Frequentist does not consider the probability of an event or state of the world or hypothesis, only their frequency of occurrance, it is not possible to ask questions of the form \"what is the probabilty that hypothesis x is true?\" Instead, one can only consider questions of the form, \"what is the probabilty that I would have obtained my data, given that hypothesis x is true?\" In contrast, Bayesians consider the probabilities of such things (often called the strength of belief), but doing so can require making assumptions that can be difficult to prove.\n",
        "\n",
        "Let's start with a simple example, taken from:\n",
        "\n",
        "https://en.wikipedia.org/wiki/Base_rate_fallacy#Example_1:_HIV\n",
        "\n",
        "\"Imagine running an HIV test on A SAMPLE of 1000 persons ...\"\n",
        "\n",
        "\"The test has a false positive rate of 5% (0.05)...\" i.e., the probability that someone who takes the test gets a POSITIVE result despite the fact that the person does NOT have HIV\n",
        "\n",
        "\"...and no false negative rate.\" i.e., The probability that someone who takes the test gets a NEGATIVE result despite the fact that the person DOES have HIV.\n",
        "\n",
        "Answers to the exercises below will be found [here](https://github.com/PennNGG/Quantitative-Neuroscience/tree/master/Answers%20to%20Exercises/Python) after the due date."
      ]
    },
    {
      "cell_type": "code",
      "source": [
        "import numpy as np"
      ],
      "metadata": {
        "id": "xrq8A_5un8aW"
      },
      "execution_count": 16,
      "outputs": []
    },
    {
      "cell_type": "markdown",
      "metadata": {
        "id": "J3hkaaTFlukb"
      },
      "source": [
        "### Exercise #1: If someone gets a positive test, is it \"statistically significant\" at the p<0.05 level? Why or why not?"
      ]
    },
    {
      "cell_type": "markdown",
      "source": [
        "From a frequentist perspective, a p-value represents the probability of observing the data if the null hypothesis is true. Here, the data is just the singular positive test (N=1) and the null hypothesis is that someone is not infected.\n",
        "\n",
        "As such, our p-value is just the false positive rate of 5% or 0.05. Since it is not less than 0.05, we'd say it is not statistically significant."
      ],
      "metadata": {
        "id": "09h1izlcoBFF"
      }
    },
    {
      "cell_type": "code",
      "source": [
        "N = 1\n",
        "false_positive = 0.05\n",
        "false_negative = 0\n",
        "\n",
        "print(\"If someone gets a positive test, the p-value is \"+str(false_positive))\n",
        "if false_positive < 0.05:\n",
        "    print(\"This is statistically significant at the 0.05 level.\")\n",
        "else:\n",
        "    print(\"This is not statistically significant at the 0.05 level.\")"
      ],
      "metadata": {
        "colab": {
          "base_uri": "https://localhost:8080/"
        },
        "id": "Q9_jnfKusQ6C",
        "outputId": "7fb36073-4ded-4db4-b7f9-99fd94d40f85"
      },
      "execution_count": 12,
      "outputs": [
        {
          "output_type": "stream",
          "name": "stdout",
          "text": [
            "If someone gets a positive test, the p-value is 0.05\n",
            "This is not statistically significant at the 0.05 level.\n"
          ]
        }
      ]
    },
    {
      "cell_type": "markdown",
      "metadata": {
        "id": "1ItR0WXCmBgL"
      },
      "source": [
        "### Exercise #2: What is the probability that if someone gets a positive test, that person is infected?"
      ]
    },
    {
      "cell_type": "markdown",
      "metadata": {
        "id": "EJ7aAEoKmkTV"
      },
      "source": [
        "Following on Exercise #2, let's do the same thing, but this time we will try different values for the proportion of the population that is actually infected. What you should notice is that the **PROPORTION INFECTED GIVEN A POSITIVE TEST** depends (a lot!) on the **OVERALL RATE OF INFECTION**. Put another way, to determine the probabilty of a hypothesis, given your data (e.g., proportion infected given a positive test), you have to know the probability that the hypothesis was true without any data.\n",
        "\n",
        "Why is this the case? It is a simple consequence of the definition of a conditional probability, formulated as Bayes' Rule. Specifically, the joint probability of two events, call them A and B, is defined as: $$p(A\\,and\\,B) = p(A) \\times p(B\\,|\\,A)$$ $$p(B\\,and\\,A) = p(B) \\times p(A\\,|\\,B)$$\n",
        "\n",
        "Now, calling A the Hypothesis and B the Data, then rearranging, we get:$$p(Hypothesis\\,|\\,Data) = \\frac{p(Data\\,|\\,Hypothesis) \\times p(Hypothesis)}{p(Data)}$$\n",
        "\n",
        "So you cannot calculate the probability of the hypothesis, given the data (i.e., the Bayesian posterior), without knowing the probability of the hypothesis independent of any data (i.e., the prior).\n",
        "\n",
        "For this exercise, assume a range of priors (infection rates) from 0 to 1 in steps of 0.1.\n",
        "**************"
      ]
    },
    {
      "cell_type": "markdown",
      "source": [
        "This is a question that can be answered from the Bayesian perspective where we can represent the probability of someone being infected with HIV given a positive test as:"
      ],
      "metadata": {
        "id": "Um76hhEvtBSW"
      }
    },
    {
      "cell_type": "markdown",
      "source": [
        "$$\n",
        "Posterior \\;=\\; \\frac{(Likelihood)(Prior)}{Marginal}\n",
        "$$\n",
        "or\n",
        "$$\n",
        "P(\\mathrm{HIV}\\mid +) \\;=\\; \\frac{P(+\\mid \\mathrm{HIV})\\,P(\\mathrm{HIV})}{P(+)}\n",
        "$$\n",
        "where\n",
        "$$\n",
        "P(+) = P(+ \\mid \\text{HIV}) \\, P(\\text{HIV}) \\;+\\; P(+ \\mid \\text{No HIV}) \\, P(\\text{No HIV})\n",
        "$$"
      ],
      "metadata": {
        "id": "F18DeEkdtjJM"
      }
    },
    {
      "cell_type": "code",
      "source": [
        "#we must estimate the prior to get our probability value for exercise 2\n",
        "prior_lists = np.arange(0.0, 1.1, 0.1)\n",
        "for prior in prior_lists:\n",
        "  likelihood = 1-false_negative #the false negative rate is 0, so if someone has HIV, the test will always be 100% accurate\n",
        "  p_no_hiv = 1 - prior\n",
        "  marginal = (likelihood*prior)+(false_positive*p_no_hiv)\n",
        "  posterior = (likelihood*prior)/marginal\n",
        "  print(f\"If someone gets a positive test and the infection rate is {round(prior*100,2)}%, the probability that they are infected is {round(posterior*100,2)}%\")\n"
      ],
      "metadata": {
        "colab": {
          "base_uri": "https://localhost:8080/"
        },
        "id": "Qjs21YBhsr_M",
        "outputId": "07874fe4-b366-49f6-efc9-6d91872fdfbc"
      },
      "execution_count": 15,
      "outputs": [
        {
          "output_type": "stream",
          "name": "stdout",
          "text": [
            "If someone gets a positive test and the infection rate is 0.0%, the probability that they are infected is 0.0%\n",
            "If someone gets a positive test and the infection rate is 10.0%, the probability that they are infected is 68.97%\n",
            "If someone gets a positive test and the infection rate is 20.0%, the probability that they are infected is 83.33%\n",
            "If someone gets a positive test and the infection rate is 30.0%, the probability that they are infected is 89.55%\n",
            "If someone gets a positive test and the infection rate is 40.0%, the probability that they are infected is 93.02%\n",
            "If someone gets a positive test and the infection rate is 50.0%, the probability that they are infected is 95.24%\n",
            "If someone gets a positive test and the infection rate is 60.0%, the probability that they are infected is 96.77%\n",
            "If someone gets a positive test and the infection rate is 70.0%, the probability that they are infected is 97.9%\n",
            "If someone gets a positive test and the infection rate is 80.0%, the probability that they are infected is 98.77%\n",
            "If someone gets a positive test and the infection rate is 90.0%, the probability that they are infected is 99.45%\n",
            "If someone gets a positive test and the infection rate is 100.0%, the probability that they are infected is 100.0%\n"
          ]
        }
      ]
    }
  ],
  "metadata": {
    "colab": {
      "collapsed_sections": [
        "pKIiY6p3GRFq",
        "J3hkaaTFlukb"
      ],
      "provenance": []
    },
    "kernelspec": {
      "display_name": "Python 3",
      "name": "python3"
    },
    "language_info": {
      "name": "python"
    }
  },
  "nbformat": 4,
  "nbformat_minor": 0
}